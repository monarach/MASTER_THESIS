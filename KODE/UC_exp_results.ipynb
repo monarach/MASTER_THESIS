{
 "cells": [
  {
   "cell_type": "markdown",
   "metadata": {},
   "source": [
    "# Uniaxial Compression Tests\n",
    "Dato: 2024_08_20_Vegard \n",
    "\n",
    "Material tests Uniaxial compression, cyclic\n",
    "\n",
    "Test specimen: cylinder, diameter 10 mm, length/height 10 mm\n",
    "\n",
    "DIC files \n"
   ]
  }
 ],
 "metadata": {
  "language_info": {
   "name": "python"
  }
 },
 "nbformat": 4,
 "nbformat_minor": 2
}
